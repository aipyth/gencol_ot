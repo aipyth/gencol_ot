{
 "cells": [
  {
   "cell_type": "code",
   "execution_count": null,
   "metadata": {},
   "outputs": [
    {
     "ename": "",
     "evalue": "",
     "output_type": "error",
     "traceback": [
      "\u001b[1;31mJupyter cannot be started. Error attempting to locate Jupyter: 'Kernelspec' module not installed in the selected interpreter (/home/ivanz/Desktop/ot_works/gencol/.venv/bin/python).\n",
      "\u001b[1;31m Please re-install or update 'jupyter'.\n",
      "\u001b[1;31mRun the following command to install 'jupyter and notebook' into the Python environment. \n",
      "\u001b[1;31mCommand: 'python -m pip install jupyter notebook -U\n",
      "\u001b[1;31mor\n",
      "\u001b[1;31mconda install jupyter notebook -U'\n",
      "\u001b[1;31mClick <a href='https://aka.ms/installJupyterForVSCode'>here</a> for more info."
     ]
    }
   ],
   "source": [
    "import numpy as np\n",
    "from scipy.optimize import linprog\n",
    "\n",
    "import random\n",
    "from itertools import product\n",
    "\n",
    "from matplotlib import pyplot as plt\n",
    "\n",
    "from tqdm import trange"
   ]
  },
  {
   "cell_type": "code",
   "execution_count": null,
   "metadata": {},
   "outputs": [
    {
     "ename": "",
     "evalue": "",
     "output_type": "error",
     "traceback": [
      "\u001b[1;31mJupyter cannot be started. Error attempting to locate Jupyter: Running cells with '.venv (Python 3.11.9)' requires the notebook package.\n",
      "\u001b[1;31mRun the following command to install 'jupyter and notebook' into the Python environment. \n",
      "\u001b[1;31mCommand: 'python -m pip install jupyter notebook -U\n",
      "\u001b[1;31mor\n",
      "\u001b[1;31mconda install jupyter notebook -U'\n",
      "\u001b[1;31mClick <a href='https://aka.ms/installJupyterForVSCode'>here</a> for more info."
     ]
    }
   ],
   "source": [
    "def place_at_bin(arr, N):\n",
    "    max_choice = N - arr.sum()\n",
    "    i = random.randint(0, max_choice)\n",
    "    index = random.choice(np.where(arr == 0)[0])\n",
    "    arr[index] = i\n",
    "\n",
    "\n",
    "def generate_a(N, l):\n",
    "    A = np.zeros((l, l))\n",
    "    i = 0\n",
    "    while i < l:\n",
    "        while A[:, i].sum() != N:\n",
    "            place_at_bin(A[:, i], N)\n",
    "        # check for any repetitions\n",
    "        for j in range(i):\n",
    "            if np.all(A[:, j] == A[:, i]):\n",
    "                A[:, i] = 0\n",
    "                i -= 1\n",
    "        i += 1\n",
    "    return A / N\n",
    "\n",
    "\n",
    "def initialize_AI(N, l):\n",
    "    return generate_a(N, l)"
   ]
  },
  {
   "cell_type": "code",
   "execution_count": 80,
   "metadata": {},
   "outputs": [],
   "source": [
    "def solve_rmp(AI, cI, marginal):\n",
    "    result = linprog(cI, A_eq=AI, b_eq=marginal, bounds=(0, None))\n",
    "    if result.x is None:\n",
    "        print(result)\n",
    "        print(AI)\n",
    "        print(cI)\n",
    "        print(marginal)\n",
    "    return result.x\n",
    "\n",
    "\n",
    "def solve_dual(AI, cI, marginal):\n",
    "    c_dual = -marginal  # because linprog does minimization\n",
    "    result = linprog(c_dual, A_ub=AI.T, b_ub=cI,\n",
    "                     bounds=[(None, 0) for _ in cI])\n",
    "    return result.x\n",
    "\n",
    "\n",
    "def mutate_parent(parent, l):\n",
    "    child = parent.copy()\n",
    "    change_index = random.choice(np.where(parent > 0)[0])\n",
    "    direction = random.choice([-1, 1])\n",
    "    destination = max(min(l-1, change_index + direction), 0)\n",
    "    child[destination] += parent[change_index]\n",
    "    child[change_index] -= parent[change_index]\n",
    "    child /= child.sum()\n",
    "    return child\n",
    "\n",
    "\n",
    "def compute_cost(lambd, N, cost_matrix: np.ndarray):\n",
    "    return (N**2/2 * lambd.T @ cost_matrix @ lambd -\n",
    "            N/2 * cost_matrix.diagonal().T @ lambd)\n",
    "\n",
    "\n",
    "def genetic_column_generation(\n",
    "        N,\n",
    "        l,\n",
    "        beta,\n",
    "        pair_potential,\n",
    "        coordinates_of_sites,\n",
    "        marginal,\n",
    "        maxiter,\n",
    "        maxsamples\n",
    "):\n",
    "    a, b = coordinates_of_sites\n",
    "    x = y = np.linspace(a, b, l)\n",
    "    X, Y = np.meshgrid(x, y, indexing='ij')\n",
    "    cost_matrix = pair_potential(X, Y)\n",
    "\n",
    "    # AI = np.eye(l)\n",
    "    # AI = np.random.randn(l, l)\n",
    "    # AI /= AI.sum(axis=0)\n",
    "    AI = initialize_AI(N, l)\n",
    "    print('Initialized A_I')\n",
    "\n",
    "    cI = np.empty(l)\n",
    "    for j in range(AI.shape[1]):\n",
    "        cI[j] = compute_cost(AI[:, j], N, cost_matrix)\n",
    "    samples = 0\n",
    "    iter = 0\n",
    "    gain = -1\n",
    "\n",
    "    with trange(maxiter) as t:\n",
    "        for i in t:\n",
    "            print(f\"iteration {i}\")\n",
    "            alpha_I = solve_rmp(AI, cI, marginal)\n",
    "            y_star = solve_dual(AI, cI, marginal)\n",
    "\n",
    "            while gain <= 0 and samples <= maxsamples:\n",
    "                # Select a random active column of AI\n",
    "                parent_index = random.choice(np.where(alpha_I > 0)[0])\n",
    "                parent = AI[:, parent_index]\n",
    "                child = mutate_parent(parent, l)\n",
    "                c_child = compute_cost(child, N, cost_matrix)\n",
    "\n",
    "                # Calculate gain from adding the child column\n",
    "                gain = np.dot(child.T, y_star) - c_child\n",
    "\n",
    "                samples += 1\n",
    "\n",
    "            # Update AI and cI with the new child column if there's a positive gain\n",
    "            if gain > 0:\n",
    "                AI = np.hstack((AI, child[:, np.newaxis]))\n",
    "                # cI = np.hstack((cI, c_child))\n",
    "                cI = np.append(c_child)\n",
    "                if AI.shape[1] > beta * l:\n",
    "                    # Clear the oldest inactive columns\n",
    "                    inactive_indices = np.where(alpha_I == 0)[0]\n",
    "                    AI = np.delete(AI, inactive_indices[:l], axis=1)\n",
    "                    # cI = np.delete(cI, inactive_indices[:l], axis=1)\n",
    "                    cI = np.delete(cI, inactive_indices[:l])\n",
    "\n",
    "            iter += 1\n",
    "\n",
    "            t.set_postfix(samples=samples)\n",
    "\n",
    "    return AI, alpha_I  # Return the final set of columns and configuration\n"
   ]
  },
  {
   "cell_type": "code",
   "execution_count": 81,
   "metadata": {},
   "outputs": [],
   "source": [
    "N = 10  # Number of marginals\n",
    "l = 100  # Number of sites\n",
    "beta = 5  # Hyperparameter for controlling the maximum columns\n",
    "maxiter = 5000  # Maximum number of iterations\n",
    "# maxsamples = 1000  # Maximum number of samples for mutations\n",
    "\n",
    "grid_points = np.arange(1, l+1)\n",
    "\n",
    "marginal = 0.2 + np.power(np.sin(np.pi * grid_points / (l+1)), 2)\n",
    "marginal /= marginal.sum()\n",
    "\n",
    "\n",
    "def pair_potential(x, y, eps=0.1):\n",
    "    \"Use regulatized Coulomb interaction\"\n",
    "    return 1 / np.sqrt(eps**2 + np.power(x - y, 2))"
   ]
  },
  {
   "cell_type": "code",
   "execution_count": 82,
   "metadata": {},
   "outputs": [
    {
     "name": "stdout",
     "output_type": "stream",
     "text": [
      "1-DIMENSIONAL SETTING.\n",
      "Number of marginals N=10\n",
      "Number of grid points l=20\n",
      "Hyperparameter for controlling the maximum columns beta=5\n",
      "Maximum number of iterations maxiter=1000\n",
      "First 6 gridpoints [1 2 3 4 5 6]\n",
      "Last 6 gridpoints [15 16 17 18 19 20]\n",
      "Marginal [0.01532508 0.01978487 0.02677621 0.0356779  0.04569896]\n"
     ]
    }
   ],
   "source": [
    "print(\"1-DIMENSIONAL SETTING.\")\n",
    "print(f\"Number of marginals {N=}\")\n",
    "print(f\"Number of grid points {l=}\")\n",
    "print(f\"Hyperparameter for controlling the maximum columns {beta=}\")\n",
    "print(f\"Maximum number of iterations {maxiter=}\")\n",
    "print(f\"First 6 gridpoints {grid_points[:6]}\")\n",
    "print(f\"Last 6 gridpoints {grid_points[-6:]}\")\n",
    "print(f\"Marginal {marginal[:5]}\")"
   ]
  },
  {
   "cell_type": "code",
   "execution_count": 83,
   "metadata": {},
   "outputs": [
    {
     "data": {
      "image/png": "[encoded data removed]",
      "text/plain": [
       "<Figure size 640x480 with 1 Axes>"
      ]
     },
     "metadata": {},
     "output_type": "display_data"
    }
   ],
   "source": [
    "plt.scatter(grid_points, marginal, s=3)\n",
    "plt.grid()"
   ]
  },
  {
   "cell_type": "code",
   "execution_count": 84,
   "metadata": {},
   "outputs": [
    {
     "ename": "ValueError",
     "evalue": "Invalid input for linprog: c must be a 1-D array and must not have more than one non-singleton dimension",
     "output_type": "error",
     "traceback": [
      "\u001b[0;31m---------------------------------------------------------------------------\u001b[0m",
      "\u001b[0;31mValueError\u001b[0m                                Traceback (most recent call last)",
      "Cell \u001b[0;32mIn[84], line 1\u001b[0m\n\u001b[0;32m----> 1\u001b[0m ai, ci \u001b[38;5;241m=\u001b[39m \u001b[43mgenetic_column_generation\u001b[49m\u001b[43m(\u001b[49m\u001b[43mN\u001b[49m\u001b[43m,\u001b[49m\u001b[43m \u001b[49m\u001b[43ml\u001b[49m\u001b[43m,\u001b[49m\u001b[43m \u001b[49m\u001b[43mbeta\u001b[49m\u001b[43m,\u001b[49m\u001b[43m \u001b[49m\u001b[43mpair_potential\u001b[49m\u001b[43m,\u001b[49m\u001b[43m \u001b[49m\u001b[43m(\u001b[49m\u001b[38;5;241;43m0\u001b[39;49m\u001b[43m,\u001b[49m\u001b[43m \u001b[49m\u001b[38;5;241;43m1\u001b[39;49m\u001b[43m)\u001b[49m\u001b[43m,\u001b[49m\u001b[43m \u001b[49m\u001b[43mmarginal\u001b[49m\u001b[43m,\u001b[49m\u001b[43m \u001b[49m\u001b[43mmaxiter\u001b[49m\u001b[43m,\u001b[49m\u001b[43m \u001b[49m\u001b[38;5;241;43m100\u001b[39;49m\u001b[43m)\u001b[49m\n\u001b[1;32m      2\u001b[0m ci\n",
      "Cell \u001b[0;32mIn[80], line 50\u001b[0m, in \u001b[0;36mgenetic_column_generation\u001b[0;34m(N, l, beta, pair_potential, coordinates_of_sites, marginal, maxiter, maxsamples)\u001b[0m\n\u001b[1;32m     47\u001b[0m gain \u001b[38;5;241m=\u001b[39m \u001b[38;5;241m-\u001b[39m\u001b[38;5;241m1\u001b[39m\n\u001b[1;32m     49\u001b[0m \u001b[38;5;28;01mwhile\u001b[39;00m \u001b[38;5;28miter\u001b[39m \u001b[38;5;241m<\u001b[39m\u001b[38;5;241m=\u001b[39m maxiter:\n\u001b[0;32m---> 50\u001b[0m     alpha_I \u001b[38;5;241m=\u001b[39m \u001b[43msolve_rmp\u001b[49m\u001b[43m(\u001b[49m\u001b[43mAI\u001b[49m\u001b[43m,\u001b[49m\u001b[43m \u001b[49m\u001b[43mcI\u001b[49m\u001b[43m,\u001b[49m\u001b[43m \u001b[49m\u001b[43mmarginal\u001b[49m\u001b[43m)\u001b[49m\n\u001b[1;32m     51\u001b[0m     y_star \u001b[38;5;241m=\u001b[39m solve_dual(AI, cI)\n\u001b[1;32m     53\u001b[0m     \u001b[38;5;28;01mwhile\u001b[39;00m gain \u001b[38;5;241m<\u001b[39m\u001b[38;5;241m=\u001b[39m \u001b[38;5;241m0\u001b[39m \u001b[38;5;129;01mand\u001b[39;00m samples \u001b[38;5;241m<\u001b[39m\u001b[38;5;241m=\u001b[39m maxsamples:\n\u001b[1;32m     54\u001b[0m         \u001b[38;5;66;03m# Select a random active column of AI\u001b[39;00m\n",
      "Cell \u001b[0;32mIn[80], line 2\u001b[0m, in \u001b[0;36msolve_rmp\u001b[0;34m(AI, cI, marginal)\u001b[0m\n\u001b[1;32m      1\u001b[0m \u001b[38;5;28;01mdef\u001b[39;00m \u001b[38;5;21msolve_rmp\u001b[39m(AI, cI, marginal):\n\u001b[0;32m----> 2\u001b[0m     alpha \u001b[38;5;241m=\u001b[39m \u001b[43mlinprog\u001b[49m\u001b[43m(\u001b[49m\u001b[43mcI\u001b[49m\u001b[43m,\u001b[49m\u001b[43m \u001b[49m\u001b[43mA_eq\u001b[49m\u001b[38;5;241;43m=\u001b[39;49m\u001b[43mAI\u001b[49m\u001b[43m,\u001b[49m\u001b[43m \u001b[49m\u001b[43mb_eq\u001b[49m\u001b[38;5;241;43m=\u001b[39;49m\u001b[43mmarginal\u001b[49m\u001b[43m,\u001b[49m\u001b[43m \u001b[49m\u001b[43mbounds\u001b[49m\u001b[38;5;241;43m=\u001b[39;49m\u001b[43m(\u001b[49m\u001b[38;5;241;43m0\u001b[39;49m\u001b[43m,\u001b[49m\u001b[43m \u001b[49m\u001b[38;5;28;43;01mNone\u001b[39;49;00m\u001b[43m)\u001b[49m\u001b[43m)\u001b[49m\n\u001b[1;32m      3\u001b[0m     \u001b[38;5;28;01mreturn\u001b[39;00m alpha\n",
      "File \u001b[0;32m~/Desktop/ot_works/gencol/.venv/lib/python3.11/site-packages/scipy/optimize/_linprog.py:632\u001b[0m, in \u001b[0;36mlinprog\u001b[0;34m(c, A_ub, b_ub, A_eq, b_eq, bounds, method, callback, options, x0, integrality)\u001b[0m\n\u001b[1;32m    629\u001b[0m     integrality \u001b[38;5;241m=\u001b[39m \u001b[38;5;28;01mNone\u001b[39;00m\n\u001b[1;32m    631\u001b[0m lp \u001b[38;5;241m=\u001b[39m _LPProblem(c, A_ub, b_ub, A_eq, b_eq, bounds, x0, integrality)\n\u001b[0;32m--> 632\u001b[0m lp, solver_options \u001b[38;5;241m=\u001b[39m \u001b[43m_parse_linprog\u001b[49m\u001b[43m(\u001b[49m\u001b[43mlp\u001b[49m\u001b[43m,\u001b[49m\u001b[43m \u001b[49m\u001b[43moptions\u001b[49m\u001b[43m,\u001b[49m\u001b[43m \u001b[49m\u001b[43mmeth\u001b[49m\u001b[43m)\u001b[49m\n\u001b[1;32m    633\u001b[0m tol \u001b[38;5;241m=\u001b[39m solver_options\u001b[38;5;241m.\u001b[39mget(\u001b[38;5;124m'\u001b[39m\u001b[38;5;124mtol\u001b[39m\u001b[38;5;124m'\u001b[39m, \u001b[38;5;241m1e-9\u001b[39m)\n\u001b[1;32m    635\u001b[0m \u001b[38;5;66;03m# Give unmodified problem to HiGHS\u001b[39;00m\n",
      "File \u001b[0;32m~/Desktop/ot_works/gencol/.venv/lib/python3.11/site-packages/scipy/optimize/_linprog_util.py:1026\u001b[0m, in \u001b[0;36m_parse_linprog\u001b[0;34m(lp, options, meth)\u001b[0m\n\u001b[1;32m   1023\u001b[0m solver_options, A_ub, A_eq \u001b[38;5;241m=\u001b[39m _check_sparse_inputs(solver_options, meth,\n\u001b[1;32m   1024\u001b[0m                                                   lp\u001b[38;5;241m.\u001b[39mA_ub, lp\u001b[38;5;241m.\u001b[39mA_eq)\n\u001b[1;32m   1025\u001b[0m \u001b[38;5;66;03m# Convert lists to numpy arrays, etc...\u001b[39;00m\n\u001b[0;32m-> 1026\u001b[0m lp \u001b[38;5;241m=\u001b[39m \u001b[43m_clean_inputs\u001b[49m\u001b[43m(\u001b[49m\u001b[43mlp\u001b[49m\u001b[38;5;241;43m.\u001b[39;49m\u001b[43m_replace\u001b[49m\u001b[43m(\u001b[49m\u001b[43mA_ub\u001b[49m\u001b[38;5;241;43m=\u001b[39;49m\u001b[43mA_ub\u001b[49m\u001b[43m,\u001b[49m\u001b[43m \u001b[49m\u001b[43mA_eq\u001b[49m\u001b[38;5;241;43m=\u001b[39;49m\u001b[43mA_eq\u001b[49m\u001b[43m)\u001b[49m\u001b[43m)\u001b[49m\n\u001b[1;32m   1027\u001b[0m \u001b[38;5;28;01mreturn\u001b[39;00m lp, solver_options\n",
      "File \u001b[0;32m~/Desktop/ot_works/gencol/.venv/lib/python3.11/site-packages/scipy/optimize/_linprog_util.py:302\u001b[0m, in \u001b[0;36m_clean_inputs\u001b[0;34m(lp)\u001b[0m\n\u001b[1;32m    300\u001b[0m n_x \u001b[38;5;241m=\u001b[39m \u001b[38;5;28mlen\u001b[39m(c)\n\u001b[1;32m    301\u001b[0m \u001b[38;5;28;01mif\u001b[39;00m n_x \u001b[38;5;241m==\u001b[39m \u001b[38;5;241m0\u001b[39m \u001b[38;5;129;01mor\u001b[39;00m \u001b[38;5;28mlen\u001b[39m(c\u001b[38;5;241m.\u001b[39mshape) \u001b[38;5;241m!=\u001b[39m \u001b[38;5;241m1\u001b[39m:\n\u001b[0;32m--> 302\u001b[0m     \u001b[38;5;28;01mraise\u001b[39;00m \u001b[38;5;167;01mValueError\u001b[39;00m(\n\u001b[1;32m    303\u001b[0m         \u001b[38;5;124m\"\u001b[39m\u001b[38;5;124mInvalid input for linprog: c must be a 1-D array and must \u001b[39m\u001b[38;5;124m\"\u001b[39m\n\u001b[1;32m    304\u001b[0m         \u001b[38;5;124m\"\u001b[39m\u001b[38;5;124mnot have more than one non-singleton dimension\u001b[39m\u001b[38;5;124m\"\u001b[39m)\n\u001b[1;32m    305\u001b[0m \u001b[38;5;28;01mif\u001b[39;00m \u001b[38;5;129;01mnot\u001b[39;00m np\u001b[38;5;241m.\u001b[39misfinite(c)\u001b[38;5;241m.\u001b[39mall():\n\u001b[1;32m    306\u001b[0m     \u001b[38;5;28;01mraise\u001b[39;00m \u001b[38;5;167;01mValueError\u001b[39;00m(\n\u001b[1;32m    307\u001b[0m         \u001b[38;5;124m\"\u001b[39m\u001b[38;5;124mInvalid input for linprog: c must not contain values \u001b[39m\u001b[38;5;124m\"\u001b[39m\n\u001b[1;32m    308\u001b[0m         \u001b[38;5;124m\"\u001b[39m\u001b[38;5;124minf, nan, or None\u001b[39m\u001b[38;5;124m\"\u001b[39m)\n",
      "\u001b[0;31mValueError\u001b[0m: Invalid input for linprog: c must be a 1-D array and must not have more than one non-singleton dimension"
     ]
    }
   ],
   "source": [
    "ai, alpha = genetic_column_generation(\n",
    "    N, l, beta, pair_potential, (0, 1), marginal, maxiter, 100000)"
   ]
  },
  {
   "cell_type": "code",
   "execution_count": 70,
   "metadata": {},
   "outputs": [
    {
     "data": {
      "text/plain": [
       "<matplotlib.image.AxesImage at 0x7fffb0168a50>"
      ]
     },
     "execution_count": 70,
     "metadata": {},
     "output_type": "execute_result"
    },
    {
     "data": {
      "image/png": "[encoded data removed]",
      "text/plain": [
       "<Figure size 640x480 with 1 Axes>"
      ]
     },
     "metadata": {},
     "output_type": "display_data"
    }
   ],
   "source": [
    "gamma = ai.T @ alpha\n",
    "print(f\"{gamma.shape=}\")\n",
    "print(gamma)\n",
    "\n",
    "plt.scatter(grid_points, gamma)\n",
    "plt.show()"
   ]
  },
  {
   "cell_type": "code",
   "execution_count": 73,
   "metadata": {},
   "outputs": [
    {
     "data": {
      "text/plain": [
       "array([450., 450., 450., 450., 450., 450., 450., 450., 450., 450., 450.,\n",
       "       450., 450., 450., 450., 450., 450., 450., 450., 450.])"
      ]
     },
     "execution_count": 73,
     "metadata": {},
     "output_type": "execute_result"
    }
   ],
   "source": [
    "ci[:, 0]"
   ]
  },
  {
   "cell_type": "code",
   "execution_count": null,
   "metadata": {},
   "outputs": [],
   "source": []
  }
 ],
 "metadata": {
  "kernelspec": {
   "display_name": ".venv",
   "language": "python",
   "name": "python3"
  },
  "language_info": {
   "codemirror_mode": {
    "name": "ipython",
    "version": 3
   },
   "file_extension": ".py",
   "mimetype": "text/x-python",
   "name": "python",
   "nbconvert_exporter": "python",
   "pygments_lexer": "ipython3",
   "version": "3.11.9"
  }
 },
 "nbformat": 4,
 "nbformat_minor": 2
}
