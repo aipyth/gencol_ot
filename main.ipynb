{
 "cells": [
  {
   "cell_type": "code",
   "execution_count": 1,
   "metadata": {},
   "outputs": [],
   "source": [
    "import numpy as np\n",
    "from scipy.optimize import linprog\n",
    "\n",
    "import random\n",
    "from itertools import product\n",
    "\n",
    "from matplotlib import pyplot as plt\n",
    "\n",
    "from tqdm import trange"
   ]
  },
  {
   "cell_type": "code",
   "execution_count": 2,
   "metadata": {},
   "outputs": [],
   "source": [
    "def place_at_bin(arr, N):\n",
    "    max_choice = N - arr.sum()\n",
    "    i = random.randint(0, max_choice)\n",
    "    index = random.choice(np.where(arr == 0)[0])\n",
    "    arr[index] = i\n",
    "\n",
    "\n",
    "def generate_a(N, l):\n",
    "    A = np.zeros((l, l))\n",
    "    i = 0\n",
    "    while i < l:\n",
    "        while A[:, i].sum() != N:\n",
    "            place_at_bin(A[:, i], N)\n",
    "        # check for any repetitions\n",
    "        for j in range(i):\n",
    "            if np.all(A[:, j] == A[:, i]):\n",
    "                A[:, i] = 0\n",
    "                i -= 1\n",
    "        i += 1\n",
    "    return A / N\n",
    "\n",
    "\n",
    "def initialize_AI(N, l):\n",
    "    return generate_a(N, l)"
   ]
  },
  {
   "cell_type": "code",
   "execution_count": 3,
   "metadata": {},
   "outputs": [],
   "source": [
    "def solve_rmp(AI, cI, marginal):\n",
    "    result = linprog(cI, A_eq=AI, b_eq=marginal, bounds=(0, None))\n",
    "    if result.x is None:\n",
    "        print(result)\n",
    "        print(AI)\n",
    "        print(cI)\n",
    "        print(marginal)\n",
    "    return result.x\n",
    "\n",
    "\n",
    "def solve_dual(AI, cI, marginal):\n",
    "    c_dual = -marginal  # because linprog does minimization\n",
    "    result = linprog(c_dual, A_ub=AI.T, b_ub=cI,\n",
    "                     bounds=[(None, 0) for _ in cI])\n",
    "    return result.x\n",
    "\n",
    "\n",
    "def mutate_parent(parent, l):\n",
    "    child = parent.copy()\n",
    "    change_index = random.choice(np.where(parent > 0)[0])\n",
    "    direction = random.choice([-1, 1])\n",
    "    destination = max(min(l-1, change_index + direction), 0)\n",
    "    child[destination] += parent[change_index]\n",
    "    child[change_index] -= parent[change_index]\n",
    "    child /= child.sum()\n",
    "    return child\n",
    "\n",
    "\n",
    "def compute_cost(lambd, N, cost_matrix: np.ndarray):\n",
    "    return (N**2/2 * lambd.T @ cost_matrix @ lambd -\n",
    "            N/2 * cost_matrix.diagonal().T @ lambd)\n",
    "\n",
    "\n",
    "def genetic_column_generation(\n",
    "        N,\n",
    "        l,\n",
    "        beta,\n",
    "        pair_potential,\n",
    "        coordinates_of_sites,\n",
    "        marginal,\n",
    "        maxiter,\n",
    "        maxsamples\n",
    "):\n",
    "    a, b = coordinates_of_sites\n",
    "    x = y = np.linspace(a, b, l)\n",
    "    X, Y = np.meshgrid(x, y, indexing='ij')\n",
    "    cost_matrix = pair_potential(X, Y)\n",
    "\n",
    "    # AI = np.eye(l)\n",
    "    # AI = np.random.randn(l, l)\n",
    "    # AI /= AI.sum(axis=0)\n",
    "    AI = initialize_AI(N, l)\n",
    "    print('Initialized A_I')\n",
    "\n",
    "    cI = np.empty(l)\n",
    "    for j in range(AI.shape[1]):\n",
    "        cI[j] = compute_cost(AI[:, j], N, cost_matrix)\n",
    "    samples = 0\n",
    "    iter = 0\n",
    "    gain = -1\n",
    "\n",
    "    with trange(maxiter) as t:\n",
    "        for i in t:\n",
    "            print(f\"iteration {i}\")\n",
    "            alpha_I = solve_rmp(AI, cI, marginal)\n",
    "            y_star = solve_dual(AI, cI, marginal)\n",
    "\n",
    "            while gain <= 0 and samples <= maxsamples:\n",
    "                # Select a random active column of AI\n",
    "                parent_index = random.choice(np.where(alpha_I > 0)[0])\n",
    "                parent = AI[:, parent_index]\n",
    "                child = mutate_parent(parent, l)\n",
    "                c_child = compute_cost(child, N, cost_matrix)\n",
    "\n",
    "                # Calculate gain from adding the child column\n",
    "                gain = np.dot(child.T, y_star) - c_child\n",
    "\n",
    "                samples += 1\n",
    "\n",
    "            # Update AI and cI with the new child column if there's a positive gain\n",
    "            if gain > 0:\n",
    "                AI = np.hstack((AI, child[:, np.newaxis]))\n",
    "                # cI = np.hstack((cI, c_child))\n",
    "                cI = np.append(c_child)\n",
    "                if AI.shape[1] > beta * l:\n",
    "                    # Clear the oldest inactive columns\n",
    "                    inactive_indices = np.where(alpha_I == 0)[0]\n",
    "                    AI = np.delete(AI, inactive_indices[:l], axis=1)\n",
    "                    # cI = np.delete(cI, inactive_indices[:l], axis=1)\n",
    "                    cI = np.delete(cI, inactive_indices[:l])\n",
    "\n",
    "            iter += 1\n",
    "\n",
    "            t.set_postfix(samples=samples)\n",
    "\n",
    "    return AI, alpha_I  # Return the final set of columns and configuration\n"
   ]
  },
  {
   "cell_type": "code",
   "execution_count": 4,
   "metadata": {},
   "outputs": [],
   "source": [
    "N = 10  # Number of marginals\n",
    "l = 100  # Number of sites\n",
    "beta = 5  # Hyperparameter for controlling the maximum columns\n",
    "maxiter = 5000  # Maximum number of iterations\n",
    "# maxsamples = 1000  # Maximum number of samples for mutations\n",
    "\n",
    "grid_points = np.arange(1, l+1)\n",
    "\n",
    "marginal = 0.2 + np.power(np.sin(np.pi * grid_points / (l+1)), 2)\n",
    "marginal /= marginal.sum()\n",
    "\n",
    "\n",
    "def pair_potential(x, y, eps=0.1):\n",
    "    \"Use regulatized Coulomb interaction\"\n",
    "    return 1 / np.sqrt(eps**2 + np.power(x - y, 2))"
   ]
  },
  {
   "cell_type": "code",
   "execution_count": 5,
   "metadata": {},
   "outputs": [
    {
     "name": "stdout",
     "output_type": "stream",
     "text": [
      "1-DIMENSIONAL SETTING.\n",
      "Number of marginals N=10\n",
      "Number of grid points l=100\n",
      "Hyperparameter for controlling the maximum columns beta=5\n",
      "Maximum number of iterations maxiter=5000\n",
      "First 6 gridpoints [1 2 3 4 5 6]\n",
      "Last 6 gridpoints [ 95  96  97  98  99 100]\n",
      "Marginal [0.0028506  0.0028917  0.00296003 0.00305533 0.00317721]\n"
     ]
    }
   ],
   "source": [
    "print(\"1-DIMENSIONAL SETTING.\")\n",
    "print(f\"Number of marginals {N=}\")\n",
    "print(f\"Number of grid points {l=}\")\n",
    "print(f\"Hyperparameter for controlling the maximum columns {beta=}\")\n",
    "print(f\"Maximum number of iterations {maxiter=}\")\n",
    "print(f\"First 6 gridpoints {grid_points[:6]}\")\n",
    "print(f\"Last 6 gridpoints {grid_points[-6:]}\")\n",
    "print(f\"Marginal {marginal[:5]}\")"
   ]
  },
  {
   "cell_type": "code",
   "execution_count": 6,
   "metadata": {},
   "outputs": [
    {
     "data": {
      "image/png": "[encoded data removed]",
      "text/plain": [
       "<Figure size 640x480 with 1 Axes>"
      ]
     },
     "metadata": {},
     "output_type": "display_data"
    }
   ],
   "source": [
    "plt.scatter(grid_points, marginal, s=3)\n",
    "plt.grid()"
   ]
  },
  {
   "cell_type": "code",
   "execution_count": 7,
   "metadata": {},
   "outputs": [
    {
     "name": "stdout",
     "output_type": "stream",
     "text": [
      "Initialized A_I\n"
     ]
    },
    {
     "name": "stderr",
     "output_type": "stream",
     "text": [
      "  0%|          | 0/5000 [00:00<?, ?it/s]"
     ]
    },
    {
     "name": "stdout",
     "output_type": "stream",
     "text": [
      "iteration 0\n",
      "       message: The problem is infeasible. (HiGHS Status 8: model_status is Infeasible; primal_status is At lower/fixed bound)\n",
      "       success: False\n",
      "        status: 2\n",
      "           fun: None\n",
      "             x: None\n",
      "           nit: 0\n",
      "         lower:  residual: None\n",
      "                marginals: None\n",
      "         upper:  residual: None\n",
      "                marginals: None\n",
      "         eqlin:  residual: None\n",
      "                marginals: None\n",
      "       ineqlin:  residual: None\n",
      "                marginals: None\n",
      "[[0.  0.  0.  ... 0.  0.  0. ]\n",
      " [0.  0.  0.  ... 0.  0.  0. ]\n",
      " [0.  0.  0.  ... 0.  0.  0. ]\n",
      " ...\n",
      " [0.  0.  0.  ... 0.  0.  0. ]\n",
      " [0.  0.  0.  ... 0.  0.  0. ]\n",
      " [0.  0.  0.4 ... 0.  0.  0. ]]\n",
      "[380.19266373 300.96327821 241.15101114 403.37268748 293.6050767\n",
      " 242.44695341 254.27336717 270.91702318 273.18820912 225.46289036\n",
      " 213.97956671 446.1321964  315.14781138 290.42549368 275.3365894\n",
      " 341.5843926  450.         418.85405545 234.7676249  264.73601751\n",
      " 302.99526418 244.02585661 316.07734905 260.7583437  321.81356076\n",
      " 322.86936605 212.00507029 197.82617755 366.27812672 294.72013187\n",
      " 317.24748606 385.634582   329.45536141 258.41188839 450.\n",
      " 273.54656806 223.6835601  409.57579875 326.17658224 225.90483622\n",
      " 239.47516525 294.27976418 239.04033925 222.78092861 226.49281687\n",
      " 242.69240171 236.51087456 253.27868852 194.29866029 246.66590531\n",
      " 280.93295826 450.         204.64954941 380.64841401 265.8636826\n",
      " 227.19226405 265.59273933 256.61503634 450.         264.47258066\n",
      " 450.         236.54351849 450.         287.29728762 378.8507035\n",
      " 405.96251181 372.60315112 213.37944319 197.75877897 380.19266373\n",
      " 374.19119093 273.64178969 449.54434701 284.13539464 379.75609756\n",
      " 364.12680131 323.02660039 246.13710156 450.         266.44171608\n",
      " 450.         338.44339362 373.29550613 362.2166712  351.01294767\n",
      " 336.2811916  379.33756044 281.38739611 420.20682585 388.77586714\n",
      " 340.14039267 195.34267723 450.         253.78785077 352.43197767\n",
      " 252.34178487 396.93282096 377.48063863 310.93837265 318.42210384]\n",
      "[0.0028506  0.0028917  0.00296003 0.00305533 0.00317721 0.00332522\n",
      " 0.00349878 0.00369721 0.00391975 0.00416555 0.00443364 0.00472299\n",
      " 0.00503248 0.00536092 0.00570703 0.00606947 0.00644685 0.0068377\n",
      " 0.00724051 0.00765372 0.00807573 0.00850491 0.00893961 0.00937813\n",
      " 0.00981878 0.01025986 0.01069966 0.01113648 0.01156863 0.01199443\n",
      " 0.01241224 0.01282045 0.01321747 0.01360177 0.01397186 0.01432631\n",
      " 0.01466375 0.01498286 0.01528243 0.01556129 0.01581835 0.01605264\n",
      " 0.01626323 0.01644931 0.01661017 0.01674518 0.01685383 0.01693568\n",
      " 0.01699042 0.01701785 0.01701785 0.01699042 0.01693568 0.01685383\n",
      " 0.01674518 0.01661017 0.01644931 0.01626323 0.01605264 0.01581835\n",
      " 0.01556129 0.01528243 0.01498286 0.01466375 0.01432631 0.01397186\n",
      " 0.01360177 0.01321747 0.01282045 0.01241224 0.01199443 0.01156863\n",
      " 0.01113648 0.01069966 0.01025986 0.00981878 0.00937813 0.00893961\n",
      " 0.00850491 0.00807573 0.00765372 0.00724051 0.0068377  0.00644685\n",
      " 0.00606947 0.00570703 0.00536092 0.00503248 0.00472299 0.00443364\n",
      " 0.00416555 0.00391975 0.00369721 0.00349878 0.00332522 0.00317721\n",
      " 0.00305533 0.00296003 0.0028917  0.0028506 ]\n"
     ]
    },
    {
     "name": "stderr",
     "output_type": "stream",
     "text": [
      "\n"
     ]
    },
    {
     "ename": "TypeError",
     "evalue": "'>' not supported between instances of 'NoneType' and 'int'",
     "output_type": "error",
     "traceback": [
      "\u001b[0;31m---------------------------------------------------------------------------\u001b[0m",
      "\u001b[0;31mTypeError\u001b[0m                                 Traceback (most recent call last)",
      "Cell \u001b[0;32mIn[7], line 1\u001b[0m\n\u001b[0;32m----> 1\u001b[0m ai, alpha \u001b[38;5;241m=\u001b[39m \u001b[43mgenetic_column_generation\u001b[49m\u001b[43m(\u001b[49m\n\u001b[1;32m      2\u001b[0m \u001b[43m    \u001b[49m\u001b[43mN\u001b[49m\u001b[43m,\u001b[49m\u001b[43m \u001b[49m\u001b[43ml\u001b[49m\u001b[43m,\u001b[49m\u001b[43m \u001b[49m\u001b[43mbeta\u001b[49m\u001b[43m,\u001b[49m\u001b[43m \u001b[49m\u001b[43mpair_potential\u001b[49m\u001b[43m,\u001b[49m\u001b[43m \u001b[49m\u001b[43m(\u001b[49m\u001b[38;5;241;43m0\u001b[39;49m\u001b[43m,\u001b[49m\u001b[43m \u001b[49m\u001b[38;5;241;43m1\u001b[39;49m\u001b[43m)\u001b[49m\u001b[43m,\u001b[49m\u001b[43m \u001b[49m\u001b[43mmarginal\u001b[49m\u001b[43m,\u001b[49m\u001b[43m \u001b[49m\u001b[43mmaxiter\u001b[49m\u001b[43m,\u001b[49m\u001b[43m \u001b[49m\u001b[38;5;241;43m100000\u001b[39;49m\u001b[43m)\u001b[49m\n",
      "Cell \u001b[0;32mIn[3], line 70\u001b[0m, in \u001b[0;36mgenetic_column_generation\u001b[0;34m(N, l, beta, pair_potential, coordinates_of_sites, marginal, maxiter, maxsamples)\u001b[0m\n\u001b[1;32m     66\u001b[0m y_star \u001b[38;5;241m=\u001b[39m solve_dual(AI, cI, marginal)\n\u001b[1;32m     68\u001b[0m \u001b[38;5;28;01mwhile\u001b[39;00m gain \u001b[38;5;241m<\u001b[39m\u001b[38;5;241m=\u001b[39m \u001b[38;5;241m0\u001b[39m \u001b[38;5;129;01mand\u001b[39;00m samples \u001b[38;5;241m<\u001b[39m\u001b[38;5;241m=\u001b[39m maxsamples:\n\u001b[1;32m     69\u001b[0m     \u001b[38;5;66;03m# Select a random active column of AI\u001b[39;00m\n\u001b[0;32m---> 70\u001b[0m     parent_index \u001b[38;5;241m=\u001b[39m random\u001b[38;5;241m.\u001b[39mchoice(np\u001b[38;5;241m.\u001b[39mwhere(\u001b[43malpha_I\u001b[49m\u001b[43m \u001b[49m\u001b[38;5;241;43m>\u001b[39;49m\u001b[43m \u001b[49m\u001b[38;5;241;43m0\u001b[39;49m)[\u001b[38;5;241m0\u001b[39m])\n\u001b[1;32m     71\u001b[0m     parent \u001b[38;5;241m=\u001b[39m AI[:, parent_index]\n\u001b[1;32m     72\u001b[0m     child \u001b[38;5;241m=\u001b[39m mutate_parent(parent, l)\n",
      "\u001b[0;31mTypeError\u001b[0m: '>' not supported between instances of 'NoneType' and 'int'"
     ]
    }
   ],
   "source": [
    "ai, alpha = genetic_column_generation(\n",
    "    N, l, beta, pair_potential, (0, 1), marginal, maxiter, 100000)"
   ]
  },
  {
   "cell_type": "code",
   "execution_count": 8,
   "metadata": {},
   "outputs": [
    {
     "ename": "NameError",
     "evalue": "name 'ai' is not defined",
     "output_type": "error",
     "traceback": [
      "\u001b[0;31m---------------------------------------------------------------------------\u001b[0m",
      "\u001b[0;31mNameError\u001b[0m                                 Traceback (most recent call last)",
      "Cell \u001b[0;32mIn[8], line 1\u001b[0m\n\u001b[0;32m----> 1\u001b[0m gamma \u001b[38;5;241m=\u001b[39m \u001b[43mai\u001b[49m\u001b[38;5;241m.\u001b[39mT \u001b[38;5;241m@\u001b[39m alpha\n\u001b[1;32m      2\u001b[0m \u001b[38;5;28mprint\u001b[39m(\u001b[38;5;124mf\u001b[39m\u001b[38;5;124m\"\u001b[39m\u001b[38;5;132;01m{\u001b[39;00mgamma\u001b[38;5;241m.\u001b[39mshape\u001b[38;5;132;01m=}\u001b[39;00m\u001b[38;5;124m\"\u001b[39m)\n\u001b[1;32m      3\u001b[0m \u001b[38;5;28mprint\u001b[39m(gamma)\n",
      "\u001b[0;31mNameError\u001b[0m: name 'ai' is not defined"
     ]
    }
   ],
   "source": [
    "gamma = ai.T @ alpha\n",
    "print(f\"{gamma.shape=}\")\n",
    "print(gamma)\n",
    "\n",
    "plt.scatter(grid_points, gamma)\n",
    "plt.show()"
   ]
  }
 ],
 "metadata": {
  "kernelspec": {
   "display_name": ".venv",
   "language": "python",
   "name": "python3"
  },
  "language_info": {
   "codemirror_mode": {
    "name": "ipython",
    "version": 3
   },
   "file_extension": ".py",
   "mimetype": "text/x-python",
   "name": "python",
   "nbconvert_exporter": "python",
   "pygments_lexer": "ipython3",
   "version": "3.11.9"
  }
 },
 "nbformat": 4,
 "nbformat_minor": 2
}
